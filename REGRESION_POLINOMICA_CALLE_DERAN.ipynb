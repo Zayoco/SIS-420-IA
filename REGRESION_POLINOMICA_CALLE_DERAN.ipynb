{
  "cells": [
    {
      "cell_type": "markdown",
      "metadata": {
        "id": "qx6hgOEy05B9"
      },
      "source": [
        "# Ejercicio de programación Regresión Polinomial"
      ]
    },
    {
      "cell_type": "code",
      "execution_count": null,
      "metadata": {
        "id": "sBcv-SUP05B_",
        "colab": {
          "base_uri": "https://localhost:8080/"
        },
        "outputId": "bd4896df-d8a2-4309-91d6-e1c3774114ab"
      },
      "outputs": [
        {
          "output_type": "stream",
          "name": "stdout",
          "text": [
            "Mounted at /content/gdrive\n"
          ]
        }
      ],
      "source": [
        "# utilizado para manejos de directorios y rutas\n",
        "import os\n",
        "\n",
        "# Computacion vectorial y cientifica para python\n",
        "import numpy as np\n",
        "\n",
        "import pandas as pd\n",
        "\n",
        "# Librerias para graficación (trazado de gráficos)\n",
        "from matplotlib import pyplot\n",
        "from mpl_toolkits.mplot3d import Axes3D  # Necesario para graficar superficies 3D\n",
        "\n",
        "# llama a matplotlib a embeber graficas dentro de los cuadernillos\n",
        "%matplotlib inline\n",
        "\n",
        "#Conecta con Google\n",
        "from google.colab import drive\n",
        "drive.mount(\"/content/gdrive\")"
      ]
    },
    {
      "cell_type": "code",
      "source": [
        "\n",
        "from sklearn.preprocessing import LabelEncoder\n",
        "from datetime import datetime\n",
        "from sklearn.model_selection import train_test_split"
      ],
      "metadata": {
        "id": "HtcEoe6DxptU"
      },
      "execution_count": null,
      "outputs": []
    },
    {
      "cell_type": "code",
      "execution_count": null,
      "metadata": {
        "scrolled": true,
        "id": "JtKE0YbT05CA",
        "colab": {
          "base_uri": "https://localhost:8080/"
        },
        "outputId": "4176b821-b682-4663-83af-239d216f5c4e"
      },
      "outputs": [
        {
          "output_type": "stream",
          "name": "stdout",
          "text": [
            "       HeartDisease    BMI Smoking AlcoholDrinking Stroke  PhysicalHealth  \\\n",
            "0                No  16.60     Yes              No     No             3.0   \n",
            "1                No  20.34      No              No    Yes             0.0   \n",
            "2                No  26.58     Yes              No     No            20.0   \n",
            "3                No  24.21      No              No     No             0.0   \n",
            "4                No  23.71      No              No     No            28.0   \n",
            "...             ...    ...     ...             ...    ...             ...   \n",
            "319790          Yes  27.41     Yes              No     No             7.0   \n",
            "319791           No  29.84     Yes              No     No             0.0   \n",
            "319792           No  24.24      No              No     No             0.0   \n",
            "319793           No  32.81      No              No     No             0.0   \n",
            "319794           No  46.56      No              No     No             0.0   \n",
            "\n",
            "        MentalHealth DiffWalking     Sex  AgeCategory      Race Diabetic  \\\n",
            "0               30.0          No  Female        55-59     White      Yes   \n",
            "1                0.0          No  Female  80 or older     White       No   \n",
            "2               30.0          No    Male        65-69     White      Yes   \n",
            "3                0.0          No  Female        75-79     White       No   \n",
            "4                0.0         Yes  Female        40-44     White       No   \n",
            "...              ...         ...     ...          ...       ...      ...   \n",
            "319790           0.0         Yes    Male        60-64  Hispanic      Yes   \n",
            "319791           0.0          No    Male        35-39  Hispanic       No   \n",
            "319792           0.0          No  Female        45-49  Hispanic       No   \n",
            "319793           0.0          No  Female        25-29  Hispanic       No   \n",
            "319794           0.0          No  Female  80 or older  Hispanic       No   \n",
            "\n",
            "       PhysicalActivity  GenHealth  SleepTime Asthma KidneyDisease SkinCancer  \n",
            "0                   Yes  Very good        5.0    Yes            No        Yes  \n",
            "1                   Yes  Very good        7.0     No            No         No  \n",
            "2                   Yes       Fair        8.0    Yes            No         No  \n",
            "3                    No       Good        6.0     No            No        Yes  \n",
            "4                   Yes  Very good        8.0     No            No         No  \n",
            "...                 ...        ...        ...    ...           ...        ...  \n",
            "319790               No       Fair        6.0    Yes            No         No  \n",
            "319791              Yes  Very good        5.0    Yes            No         No  \n",
            "319792              Yes       Good        6.0     No            No         No  \n",
            "319793               No       Good       12.0     No            No         No  \n",
            "319794              Yes       Good        8.0     No            No         No  \n",
            "\n",
            "[319795 rows x 18 columns]\n"
          ]
        }
      ],
      "source": [
        "# Cargar datos\n",
        "#data = np.loadtxt(os.path.join('Datasets', 'capacidad_adquisitiva.csv'), delimiter=';')\n",
        "#from numpy import genfromtxt\n",
        "#data = genfromtxt(os.path.join('Datasets', 'capacidad_adquisitiva.csv'), delimiter=';')\n",
        "#data = np.loadtxt(os.path.join('Datasets', 'capacidad_adquisitiva.csv'), delimiter=\";\",skiprows=1)\n",
        "\n",
        "data = pd.read_csv('/content/gdrive/MyDrive/Datasets/heart_2020_cleaned V2.csv', header=0)\n",
        "\n",
        "#data = np.loadtxt('/content/gdrive/MyDrive/Datasets/heart_2020_cleaned.csv', delimiter=',')\n",
        "print(data)\n",
        "\n",
        "#print(X)\n",
        "#print(y)\n",
        "# imprimir algunos puntos de datos\n",
        "#print('{:>8s}{:>10s}'.format(X, y))\n",
        "#print('-'*26)\n",
        "#for i in range(10):\n",
        "#    print('{:8.0f}{:10.0f}'.format(X[i, 0], y[i]))"
      ]
    },
    {
      "cell_type": "code",
      "source": [
        "data.info()"
      ],
      "metadata": {
        "colab": {
          "base_uri": "https://localhost:8080/"
        },
        "id": "TtaZCRdklIge",
        "outputId": "21b45c6a-6017-45e1-ee47-d09e97ea2b37"
      },
      "execution_count": null,
      "outputs": [
        {
          "output_type": "stream",
          "name": "stdout",
          "text": [
            "<class 'pandas.core.frame.DataFrame'>\n",
            "RangeIndex: 319795 entries, 0 to 319794\n",
            "Data columns (total 18 columns):\n",
            " #   Column            Non-Null Count   Dtype  \n",
            "---  ------            --------------   -----  \n",
            " 0   HeartDisease      319795 non-null  object \n",
            " 1   BMI               313014 non-null  float64\n",
            " 2   Smoking           313014 non-null  object \n",
            " 3   AlcoholDrinking   313014 non-null  object \n",
            " 4   Stroke            313014 non-null  object \n",
            " 5   PhysicalHealth    313014 non-null  float64\n",
            " 6   MentalHealth      313014 non-null  float64\n",
            " 7   DiffWalking       313014 non-null  object \n",
            " 8   Sex               313014 non-null  object \n",
            " 9   AgeCategory       313014 non-null  object \n",
            " 10  Race              313014 non-null  object \n",
            " 11  Diabetic          313014 non-null  object \n",
            " 12  PhysicalActivity  313014 non-null  object \n",
            " 13  GenHealth         313014 non-null  object \n",
            " 14  SleepTime         313014 non-null  float64\n",
            " 15  Asthma            313014 non-null  object \n",
            " 16  KidneyDisease     313014 non-null  object \n",
            " 17  SkinCancer        313014 non-null  object \n",
            "dtypes: float64(4), object(14)\n",
            "memory usage: 43.9+ MB\n"
          ]
        }
      ]
    },
    {
      "cell_type": "code",
      "source": [
        "#columna_eliminar0 = ['GenHealth']\n",
        "data.drop(data.columns[13], axis = 1, inplace=True)\n",
        "\n",
        "#columna_eliminar1 = ['Race']\n",
        "data.drop(data.columns[10], axis=1, inplace=True)\n",
        "\n",
        "#columna_eliminar1 = ['AgeCategory']\n",
        "data.drop(data.columns[9], axis=1, inplace=True)\n",
        "\n",
        "#columna_eliminar1 = ['Sex']\n",
        "#data.drop(data.columns[8], axis=1, inplace=True)\n",
        "\n",
        "print(data)"
      ],
      "metadata": {
        "colab": {
          "base_uri": "https://localhost:8080/"
        },
        "id": "DAO92q9-lZ0e",
        "outputId": "d3c60f82-b0f7-4cbb-a4cb-81efff53e2cf"
      },
      "execution_count": null,
      "outputs": [
        {
          "output_type": "stream",
          "name": "stdout",
          "text": [
            "       HeartDisease    BMI Smoking AlcoholDrinking Stroke  PhysicalHealth  \\\n",
            "0                No  16.60     Yes              No     No             3.0   \n",
            "1                No  20.34      No              No    Yes             0.0   \n",
            "2                No  26.58     Yes              No     No            20.0   \n",
            "3                No  24.21      No              No     No             0.0   \n",
            "4                No  23.71      No              No     No            28.0   \n",
            "...             ...    ...     ...             ...    ...             ...   \n",
            "319790          Yes  27.41     Yes              No     No             7.0   \n",
            "319791           No  29.84     Yes              No     No             0.0   \n",
            "319792           No  24.24      No              No     No             0.0   \n",
            "319793           No  32.81      No              No     No             0.0   \n",
            "319794           No  46.56      No              No     No             0.0   \n",
            "\n",
            "        MentalHealth DiffWalking     Sex Diabetic PhysicalActivity  SleepTime  \\\n",
            "0               30.0          No  Female      Yes              Yes        5.0   \n",
            "1                0.0          No  Female       No              Yes        7.0   \n",
            "2               30.0          No    Male      Yes              Yes        8.0   \n",
            "3                0.0          No  Female       No               No        6.0   \n",
            "4                0.0         Yes  Female       No              Yes        8.0   \n",
            "...              ...         ...     ...      ...              ...        ...   \n",
            "319790           0.0         Yes    Male      Yes               No        6.0   \n",
            "319791           0.0          No    Male       No              Yes        5.0   \n",
            "319792           0.0          No  Female       No              Yes        6.0   \n",
            "319793           0.0          No  Female       No               No       12.0   \n",
            "319794           0.0          No  Female       No              Yes        8.0   \n",
            "\n",
            "       Asthma KidneyDisease SkinCancer  \n",
            "0         Yes            No        Yes  \n",
            "1          No            No         No  \n",
            "2         Yes            No         No  \n",
            "3          No            No        Yes  \n",
            "4          No            No         No  \n",
            "...       ...           ...        ...  \n",
            "319790    Yes            No         No  \n",
            "319791    Yes            No         No  \n",
            "319792     No            No         No  \n",
            "319793     No            No         No  \n",
            "319794     No            No         No  \n",
            "\n",
            "[319795 rows x 15 columns]\n"
          ]
        }
      ]
    },
    {
      "cell_type": "code",
      "source": [
        "data.info()"
      ],
      "metadata": {
        "colab": {
          "base_uri": "https://localhost:8080/"
        },
        "id": "rNQEUykuqCAK",
        "outputId": "70c570d2-ed7e-4d6b-8556-95c4865aefdb"
      },
      "execution_count": null,
      "outputs": [
        {
          "output_type": "stream",
          "name": "stdout",
          "text": [
            "<class 'pandas.core.frame.DataFrame'>\n",
            "RangeIndex: 319795 entries, 0 to 319794\n",
            "Data columns (total 15 columns):\n",
            " #   Column            Non-Null Count   Dtype  \n",
            "---  ------            --------------   -----  \n",
            " 0   HeartDisease      319795 non-null  object \n",
            " 1   BMI               313014 non-null  float64\n",
            " 2   Smoking           313014 non-null  object \n",
            " 3   AlcoholDrinking   313014 non-null  object \n",
            " 4   Stroke            313014 non-null  object \n",
            " 5   PhysicalHealth    313014 non-null  float64\n",
            " 6   MentalHealth      313014 non-null  float64\n",
            " 7   DiffWalking       313014 non-null  object \n",
            " 8   Sex               313014 non-null  object \n",
            " 9   Diabetic          313014 non-null  object \n",
            " 10  PhysicalActivity  313014 non-null  object \n",
            " 11  SleepTime         313014 non-null  float64\n",
            " 12  Asthma            313014 non-null  object \n",
            " 13  KidneyDisease     313014 non-null  object \n",
            " 14  SkinCancer        313014 non-null  object \n",
            "dtypes: float64(4), object(11)\n",
            "memory usage: 36.6+ MB\n"
          ]
        }
      ]
    },
    {
      "cell_type": "code",
      "source": [
        "data1 = data"
      ],
      "metadata": {
        "id": "t7Qx6NVYlmbP"
      },
      "execution_count": null,
      "outputs": []
    },
    {
      "cell_type": "code",
      "source": [
        "data2 = data\n",
        "print(data2)"
      ],
      "metadata": {
        "colab": {
          "base_uri": "https://localhost:8080/"
        },
        "id": "xt1NSseftIvS",
        "outputId": "abe23aa7-494a-4b01-a8d6-4b625590d8ff"
      },
      "execution_count": null,
      "outputs": [
        {
          "output_type": "stream",
          "name": "stdout",
          "text": [
            "       HeartDisease    BMI Smoking AlcoholDrinking Stroke  PhysicalHealth  \\\n",
            "0                No  16.60     Yes              No     No             3.0   \n",
            "1                No  20.34      No              No    Yes             0.0   \n",
            "2                No  26.58     Yes              No     No            20.0   \n",
            "3                No  24.21      No              No     No             0.0   \n",
            "4                No  23.71      No              No     No            28.0   \n",
            "...             ...    ...     ...             ...    ...             ...   \n",
            "319790          Yes  27.41     Yes              No     No             7.0   \n",
            "319791           No  29.84     Yes              No     No             0.0   \n",
            "319792           No  24.24      No              No     No             0.0   \n",
            "319793           No  32.81      No              No     No             0.0   \n",
            "319794           No  46.56      No              No     No             0.0   \n",
            "\n",
            "        MentalHealth DiffWalking     Sex Diabetic PhysicalActivity  SleepTime  \\\n",
            "0               30.0          No  Female      Yes              Yes        5.0   \n",
            "1                0.0          No  Female       No              Yes        7.0   \n",
            "2               30.0          No    Male      Yes              Yes        8.0   \n",
            "3                0.0          No  Female       No               No        6.0   \n",
            "4                0.0         Yes  Female       No              Yes        8.0   \n",
            "...              ...         ...     ...      ...              ...        ...   \n",
            "319790           0.0         Yes    Male      Yes               No        6.0   \n",
            "319791           0.0          No    Male       No              Yes        5.0   \n",
            "319792           0.0          No  Female       No              Yes        6.0   \n",
            "319793           0.0          No  Female       No               No       12.0   \n",
            "319794           0.0          No  Female       No              Yes        8.0   \n",
            "\n",
            "       Asthma KidneyDisease SkinCancer  \n",
            "0         Yes            No        Yes  \n",
            "1          No            No         No  \n",
            "2         Yes            No         No  \n",
            "3          No            No        Yes  \n",
            "4          No            No         No  \n",
            "...       ...           ...        ...  \n",
            "319790    Yes            No         No  \n",
            "319791    Yes            No         No  \n",
            "319792     No            No         No  \n",
            "319793     No            No         No  \n",
            "319794     No            No         No  \n",
            "\n",
            "[319795 rows x 15 columns]\n"
          ]
        }
      ]
    },
    {
      "cell_type": "code",
      "source": [
        "#AQUI CAMBIAMOS LAS CADENAS DE TEXTO POR VALORES ENTRE 0 Y 1 (MALE = 1 FEMALE = 0)\n",
        "sex = {'Male':1, 'Female':0}\n",
        "data2['Sex'] = data2['Sex'].map(sex)\n",
        "print(data2)"
      ],
      "metadata": {
        "colab": {
          "base_uri": "https://localhost:8080/"
        },
        "id": "AwE4W8wrrbkz",
        "outputId": "c9e759b8-2caa-4193-aa1d-5366db580552"
      },
      "execution_count": null,
      "outputs": [
        {
          "output_type": "stream",
          "name": "stdout",
          "text": [
            "       HeartDisease    BMI Smoking AlcoholDrinking Stroke  PhysicalHealth  \\\n",
            "0                No  16.60     Yes              No     No             3.0   \n",
            "1                No  20.34      No              No    Yes             0.0   \n",
            "2                No  26.58     Yes              No     No            20.0   \n",
            "3                No  24.21      No              No     No             0.0   \n",
            "4                No  23.71      No              No     No            28.0   \n",
            "...             ...    ...     ...             ...    ...             ...   \n",
            "319790          Yes  27.41     Yes              No     No             7.0   \n",
            "319791           No  29.84     Yes              No     No             0.0   \n",
            "319792           No  24.24      No              No     No             0.0   \n",
            "319793           No  32.81      No              No     No             0.0   \n",
            "319794           No  46.56      No              No     No             0.0   \n",
            "\n",
            "        MentalHealth DiffWalking  Sex Diabetic PhysicalActivity  SleepTime  \\\n",
            "0               30.0          No  0.0      Yes              Yes        5.0   \n",
            "1                0.0          No  0.0       No              Yes        7.0   \n",
            "2               30.0          No  1.0      Yes              Yes        8.0   \n",
            "3                0.0          No  0.0       No               No        6.0   \n",
            "4                0.0         Yes  0.0       No              Yes        8.0   \n",
            "...              ...         ...  ...      ...              ...        ...   \n",
            "319790           0.0         Yes  1.0      Yes               No        6.0   \n",
            "319791           0.0          No  1.0       No              Yes        5.0   \n",
            "319792           0.0          No  0.0       No              Yes        6.0   \n",
            "319793           0.0          No  0.0       No               No       12.0   \n",
            "319794           0.0          No  0.0       No              Yes        8.0   \n",
            "\n",
            "       Asthma KidneyDisease SkinCancer  \n",
            "0         Yes            No        Yes  \n",
            "1          No            No         No  \n",
            "2         Yes            No         No  \n",
            "3          No            No        Yes  \n",
            "4          No            No         No  \n",
            "...       ...           ...        ...  \n",
            "319790    Yes            No         No  \n",
            "319791    Yes            No         No  \n",
            "319792     No            No         No  \n",
            "319793     No            No         No  \n",
            "319794     No            No         No  \n",
            "\n",
            "[319795 rows x 15 columns]\n"
          ]
        }
      ]
    },
    {
      "cell_type": "code",
      "source": [
        "data2.info()"
      ],
      "metadata": {
        "colab": {
          "base_uri": "https://localhost:8080/"
        },
        "id": "pznt4ApBveA-",
        "outputId": "76af7fef-215d-4864-922f-da5edd4a9b53"
      },
      "execution_count": null,
      "outputs": [
        {
          "output_type": "stream",
          "name": "stdout",
          "text": [
            "<class 'pandas.core.frame.DataFrame'>\n",
            "RangeIndex: 319795 entries, 0 to 319794\n",
            "Data columns (total 15 columns):\n",
            " #   Column            Non-Null Count   Dtype  \n",
            "---  ------            --------------   -----  \n",
            " 0   HeartDisease      319795 non-null  object \n",
            " 1   BMI               313014 non-null  float64\n",
            " 2   Smoking           313014 non-null  object \n",
            " 3   AlcoholDrinking   313014 non-null  object \n",
            " 4   Stroke            313014 non-null  object \n",
            " 5   PhysicalHealth    313014 non-null  float64\n",
            " 6   MentalHealth      313014 non-null  float64\n",
            " 7   DiffWalking       313014 non-null  object \n",
            " 8   Sex               313014 non-null  float64\n",
            " 9   Diabetic          313014 non-null  object \n",
            " 10  PhysicalActivity  313014 non-null  object \n",
            " 11  SleepTime         313014 non-null  float64\n",
            " 12  Asthma            313014 non-null  object \n",
            " 13  KidneyDisease     313014 non-null  object \n",
            " 14  SkinCancer        313014 non-null  object \n",
            "dtypes: float64(5), object(10)\n",
            "memory usage: 36.6+ MB\n"
          ]
        }
      ]
    },
    {
      "cell_type": "code",
      "source": [
        "booleano = {'Yes': 1, 'No': 0}\n",
        "columnas_a_cambiar = ['HeartDisease', 'Smoking', 'AlcoholDrinking','Stroke','DiffWalking','Diabetic','PhysicalActivity','Asthma','KidneyDisease','SkinCancer']\n",
        "for columna in columnas_a_cambiar:\n",
        "    data2[columna] = data2[columna].map(booleano)\n",
        "print(data2)"
      ],
      "metadata": {
        "colab": {
          "base_uri": "https://localhost:8080/"
        },
        "id": "ZLribVSTwEnd",
        "outputId": "76accb7c-e274-4c0f-f986-d040bed1ef43"
      },
      "execution_count": null,
      "outputs": [
        {
          "output_type": "stream",
          "name": "stdout",
          "text": [
            "        HeartDisease    BMI  Smoking  AlcoholDrinking  Stroke  PhysicalHealth  \\\n",
            "0                0.0  16.60      1.0              0.0     0.0             3.0   \n",
            "1                0.0  20.34      0.0              0.0     1.0             0.0   \n",
            "2                0.0  26.58      1.0              0.0     0.0            20.0   \n",
            "3                0.0  24.21      0.0              0.0     0.0             0.0   \n",
            "4                0.0  23.71      0.0              0.0     0.0            28.0   \n",
            "...              ...    ...      ...              ...     ...             ...   \n",
            "319790           1.0  27.41      1.0              0.0     0.0             7.0   \n",
            "319791           0.0  29.84      1.0              0.0     0.0             0.0   \n",
            "319792           0.0  24.24      0.0              0.0     0.0             0.0   \n",
            "319793           0.0  32.81      0.0              0.0     0.0             0.0   \n",
            "319794           0.0  46.56      0.0              0.0     0.0             0.0   \n",
            "\n",
            "        MentalHealth  DiffWalking  Sex  Diabetic  PhysicalActivity  SleepTime  \\\n",
            "0               30.0          0.0  0.0       1.0               1.0        5.0   \n",
            "1                0.0          0.0  0.0       0.0               1.0        7.0   \n",
            "2               30.0          0.0  1.0       1.0               1.0        8.0   \n",
            "3                0.0          0.0  0.0       0.0               0.0        6.0   \n",
            "4                0.0          1.0  0.0       0.0               1.0        8.0   \n",
            "...              ...          ...  ...       ...               ...        ...   \n",
            "319790           0.0          1.0  1.0       1.0               0.0        6.0   \n",
            "319791           0.0          0.0  1.0       0.0               1.0        5.0   \n",
            "319792           0.0          0.0  0.0       0.0               1.0        6.0   \n",
            "319793           0.0          0.0  0.0       0.0               0.0       12.0   \n",
            "319794           0.0          0.0  0.0       0.0               1.0        8.0   \n",
            "\n",
            "        Asthma  KidneyDisease  SkinCancer  \n",
            "0          1.0            0.0         1.0  \n",
            "1          0.0            0.0         0.0  \n",
            "2          1.0            0.0         0.0  \n",
            "3          0.0            0.0         1.0  \n",
            "4          0.0            0.0         0.0  \n",
            "...        ...            ...         ...  \n",
            "319790     1.0            0.0         0.0  \n",
            "319791     1.0            0.0         0.0  \n",
            "319792     0.0            0.0         0.0  \n",
            "319793     0.0            0.0         0.0  \n",
            "319794     0.0            0.0         0.0  \n",
            "\n",
            "[319795 rows x 15 columns]\n"
          ]
        }
      ]
    },
    {
      "cell_type": "code",
      "source": [
        "#TOMAMOS LAS X DESDE LA COLUMNA 1 HASTA LA 15\n",
        "#TOMAMOS COMO Y A LA COLUMNA 0\n",
        "#DAMOS EL VALOR A M\n",
        "X = data.iloc[:, 1:15]\n",
        "y = data.iloc[:, 0]\n",
        "m = y.size"
      ],
      "metadata": {
        "id": "wjKK1PGmjcUg"
      },
      "execution_count": null,
      "outputs": []
    },
    {
      "cell_type": "code",
      "source": [
        "# Dividimos los datos en Train (80%) y test (20%)\n",
        "train_dataB, test_dataB = train_test_split(data, test_size=0.2, random_state=42)"
      ],
      "metadata": {
        "id": "cdUESw_ExjLU"
      },
      "execution_count": null,
      "outputs": []
    },
    {
      "cell_type": "code",
      "source": [
        "# creamos un archivo para el dataset de entrenamiento\n",
        "train_dataB.to_csv(\"train2.csv\", index=False)"
      ],
      "metadata": {
        "id": "j6FPqbyExvHM"
      },
      "execution_count": null,
      "outputs": []
    },
    {
      "cell_type": "code",
      "source": [
        "# creamos un archivo para el dataset de prueba\n",
        "test_dataB.to_csv(\"test2.csv\", index=False)"
      ],
      "metadata": {
        "id": "macGzxbEx8cD"
      },
      "execution_count": null,
      "outputs": []
    },
    {
      "cell_type": "code",
      "source": [
        "#Cargamos el dataset de entrenamiento\n",
        "data = pd.read_csv('train2.csv')"
      ],
      "metadata": {
        "id": "D-ZkJAXazEAs"
      },
      "execution_count": null,
      "outputs": []
    },
    {
      "cell_type": "code",
      "source": [
        "# Leemos el dataset y seleccionamos las columnas para X y y\n",
        "X = data.iloc[:, :14]\n",
        "y = data.iloc[:, 14]\n",
        "m = y.size"
      ],
      "metadata": {
        "id": "YWjrp368zH_F"
      },
      "execution_count": null,
      "outputs": []
    },
    {
      "cell_type": "code",
      "source": [
        "#NORMALIZAMOS LOS DATOS PARA QUE ESTEN EN UNA MISMA ESCALA\n",
        "def  featureNormalize(X):\n",
        "    X_norm = X.copy()\n",
        "    mu = np.zeros(X.shape[1])\n",
        "    sigma = np.zeros(X.shape[1])\n",
        "\n",
        "    mu = np.mean(X, axis = 0)\n",
        "    sigma = np.std(X, axis = 0)\n",
        "    X_norm = (X - mu) / sigma\n",
        "\n",
        "    return X_norm, mu, sigma"
      ],
      "metadata": {
        "id": "mlmIqxwszLvT"
      },
      "execution_count": null,
      "outputs": []
    },
    {
      "cell_type": "code",
      "source": [
        "# llama featureNormalize con los datos cargados\n",
        "X_norm, mu, sigma = featureNormalize(X)\n",
        "\n",
        "print(X)\n",
        "print('Media calculada:', mu)\n",
        "print('Desviación estandar calculada:', sigma)\n",
        "print(X_norm)"
      ],
      "metadata": {
        "colab": {
          "base_uri": "https://localhost:8080/"
        },
        "id": "cHPra0VIzWDL",
        "outputId": "f27733c2-2851-4ab5-9f52-26622123a7d3"
      },
      "execution_count": null,
      "outputs": [
        {
          "output_type": "stream",
          "name": "stdout",
          "text": [
            "        HeartDisease    BMI  Smoking  AlcoholDrinking  Stroke  PhysicalHealth  \\\n",
            "0                0.0  23.33      1.0              0.0     0.0             0.0   \n",
            "1                1.0  27.46      1.0              0.0     1.0            30.0   \n",
            "2                0.0  32.69      0.0              0.0     0.0             2.0   \n",
            "3                0.0  31.32      0.0              0.0     0.0             0.0   \n",
            "4                1.0  24.63      1.0              0.0     0.0             2.0   \n",
            "...              ...    ...      ...              ...     ...             ...   \n",
            "255831           0.0  29.65      0.0              0.0     0.0             0.0   \n",
            "255832           0.0  42.60      1.0              0.0     0.0             0.0   \n",
            "255833           NaN    NaN      NaN              NaN     NaN             NaN   \n",
            "255834           0.0  22.24      0.0              0.0     0.0             7.0   \n",
            "255835           0.0  36.39      1.0              0.0     0.0             0.0   \n",
            "\n",
            "        MentalHealth  DiffWalking  Sex  Diabetic  PhysicalActivity  SleepTime  \\\n",
            "0                0.0          0.0  1.0       0.0               1.0        7.0   \n",
            "1                0.0          0.0  1.0       0.0               1.0        6.0   \n",
            "2                2.0          0.0  1.0       0.0               0.0        8.0   \n",
            "3                0.0          0.0  0.0       0.0               1.0        8.0   \n",
            "4               10.0          0.0  1.0       1.0               1.0        7.0   \n",
            "...              ...          ...  ...       ...               ...        ...   \n",
            "255831           0.0          0.0  1.0       0.0               0.0        8.0   \n",
            "255832           5.0          0.0  1.0       0.0               1.0        6.0   \n",
            "255833           NaN          NaN  NaN       NaN               NaN        NaN   \n",
            "255834           5.0          0.0  0.0       0.0               1.0        8.0   \n",
            "255835           0.0          0.0  0.0       0.0               1.0        8.0   \n",
            "\n",
            "        Asthma  KidneyDisease  \n",
            "0          0.0            0.0  \n",
            "1          0.0            0.0  \n",
            "2          0.0            0.0  \n",
            "3          0.0            0.0  \n",
            "4          0.0            0.0  \n",
            "...        ...            ...  \n",
            "255831     0.0            0.0  \n",
            "255832     0.0            0.0  \n",
            "255833     NaN            NaN  \n",
            "255834     0.0            0.0  \n",
            "255835     1.0            0.0  \n",
            "\n",
            "[255836 rows x 14 columns]\n",
            "Media calculada: HeartDisease         0.084434\n",
            "BMI                 28.283577\n",
            "Smoking              0.411835\n",
            "AlcoholDrinking      0.068514\n",
            "Stroke               0.037061\n",
            "PhysicalHealth       3.334087\n",
            "MentalHealth         3.883134\n",
            "DiffWalking          0.136972\n",
            "Sex                  0.475021\n",
            "Diabetic             0.131664\n",
            "PhysicalActivity     0.776784\n",
            "SleepTime            7.096516\n",
            "Asthma               0.133330\n",
            "KidneyDisease        0.036701\n",
            "dtype: float64\n",
            "Desviación estandar calculada: HeartDisease        0.278038\n",
            "BMI                 6.340071\n",
            "Smoking             0.492166\n",
            "AlcoholDrinking     0.252626\n",
            "Stroke              0.188911\n",
            "PhysicalHealth      7.905009\n",
            "MentalHealth        7.933197\n",
            "DiffWalking         0.343818\n",
            "Sex                 0.499376\n",
            "Diabetic            0.338126\n",
            "PhysicalActivity    0.416402\n",
            "SleepTime           1.432000\n",
            "Asthma              0.339931\n",
            "KidneyDisease       0.188028\n",
            "dtype: float64\n",
            "        HeartDisease       BMI   Smoking  AlcoholDrinking    Stroke  \\\n",
            "0          -0.303679 -0.781313  1.195055        -0.271207 -0.196182   \n",
            "1           3.292950 -0.129900  1.195055        -0.271207  5.097318   \n",
            "2          -0.303679  0.695012 -0.836782        -0.271207 -0.196182   \n",
            "3          -0.303679  0.478926 -0.836782        -0.271207 -0.196182   \n",
            "4           3.292950 -0.576268  1.195055        -0.271207 -0.196182   \n",
            "...              ...       ...       ...              ...       ...   \n",
            "255831     -0.303679  0.215522 -0.836782        -0.271207 -0.196182   \n",
            "255832     -0.303679  2.258085  1.195055        -0.271207 -0.196182   \n",
            "255833           NaN       NaN       NaN              NaN       NaN   \n",
            "255834     -0.303679 -0.953235 -0.836782        -0.271207 -0.196182   \n",
            "255835     -0.303679  1.278601  1.195055        -0.271207 -0.196182   \n",
            "\n",
            "        PhysicalHealth  MentalHealth  DiffWalking      Sex  Diabetic  \\\n",
            "0            -0.421769     -0.489479    -0.398386  1.05127 -0.389395   \n",
            "1             3.373293     -0.489479    -0.398386  1.05127 -0.389395   \n",
            "2            -0.168765     -0.237374    -0.398386  1.05127 -0.389395   \n",
            "3            -0.421769     -0.489479    -0.398386 -0.95123 -0.389395   \n",
            "4            -0.168765      0.771047    -0.398386  1.05127  2.568087   \n",
            "...                ...           ...          ...      ...       ...   \n",
            "255831       -0.421769     -0.489479    -0.398386  1.05127 -0.389395   \n",
            "255832       -0.421769      0.140784    -0.398386  1.05127 -0.389395   \n",
            "255833             NaN           NaN          NaN      NaN       NaN   \n",
            "255834        0.463746      0.140784    -0.398386 -0.95123 -0.389395   \n",
            "255835       -0.421769     -0.489479    -0.398386 -0.95123 -0.389395   \n",
            "\n",
            "        PhysicalActivity  SleepTime    Asthma  KidneyDisease  \n",
            "0               0.536059  -0.067400 -0.392226      -0.195191  \n",
            "1               0.536059  -0.765724 -0.392226      -0.195191  \n",
            "2              -1.865467   0.630924 -0.392226      -0.195191  \n",
            "3               0.536059   0.630924 -0.392226      -0.195191  \n",
            "4               0.536059  -0.067400 -0.392226      -0.195191  \n",
            "...                  ...        ...       ...            ...  \n",
            "255831         -1.865467   0.630924 -0.392226      -0.195191  \n",
            "255832          0.536059  -0.765724 -0.392226      -0.195191  \n",
            "255833               NaN        NaN       NaN            NaN  \n",
            "255834          0.536059   0.630924 -0.392226      -0.195191  \n",
            "255835          0.536059   0.630924  2.549551      -0.195191  \n",
            "\n",
            "[255836 rows x 14 columns]\n"
          ]
        }
      ]
    },
    {
      "cell_type": "code",
      "source": [
        "def sigmoid(z):\n",
        "    # Calcula la sigmoide de una entrada z\n",
        "    # convierte la intrada a un arreglo numpy\n",
        "    z = np.array(z)\n",
        "\n",
        "    g = np.zeros(z.shape)\n",
        "\n",
        "    g = 1 / (1 + np.exp(-z))\n",
        "\n",
        "    return g"
      ],
      "metadata": {
        "id": "bCFoYNDI1uf7"
      },
      "execution_count": null,
      "outputs": []
    },
    {
      "cell_type": "code",
      "source": [
        "# Prueba la implementacion de la funcion sigmoid\n",
        "z = 0\n",
        "g = sigmoid(z)\n",
        "\n",
        "print('g(', z, ') = ', g)"
      ],
      "metadata": {
        "colab": {
          "base_uri": "https://localhost:8080/"
        },
        "id": "QHzIo2aa11eU",
        "outputId": "0e94d941-0f77-4ace-f9d9-486b857de59c"
      },
      "execution_count": null,
      "outputs": [
        {
          "output_type": "stream",
          "name": "stdout",
          "text": [
            "g( 0 ) =  0.5\n"
          ]
        }
      ]
    },
    {
      "cell_type": "code",
      "source": [
        "# Configurar la matriz adecuadamente, y agregar una columna de unos que corresponde al termino de intercepción.\n",
        "m, n = X.shape\n",
        "# Agraga el termino de intercepción a A\n",
        "X = np.concatenate([np.ones((m, 1)), X_norm], axis=1)"
      ],
      "metadata": {
        "id": "99XyoCWW14bE"
      },
      "execution_count": null,
      "outputs": []
    },
    {
      "cell_type": "code",
      "source": [
        "def calcular(theta, X, y):\n",
        "    # Inicializar algunos valores utiles\n",
        "    m = y.size  # numero de ejemplos de entrenamiento\n",
        "    #epsilon = 1e-8\n",
        "\n",
        "    J = 0\n",
        "    h = sigmoid(X.dot(theta.T))\n",
        "    J = (1 / m) * np.sum(-y.dot(np.log(h)) - (1 - y).dot(np.log(1 - h)))\n",
        "\n",
        "    return J"
      ],
      "metadata": {
        "id": "BhFQWGLa17zs"
      },
      "execution_count": null,
      "outputs": []
    },
    {
      "cell_type": "code",
      "source": [
        "def descensoGradiente(theta, X, y, alpha, num_iters):\n",
        "    # Inicializa algunos valores\n",
        "    m = y.shape[0] # numero de ejemplos de entrenamiento\n",
        "\n",
        "    # realiza una copia de theta, el cual será acutalizada por el descenso por el gradiente\n",
        "    theta = theta.copy()\n",
        "    J_history = []\n",
        "\n",
        "    for i in range(num_iters):\n",
        "        h = sigmoid(X.dot(theta.T))\n",
        "        theta = theta - (alpha / m) * (h - y).dot(X)\n",
        "\n",
        "        J_history.append(calcular(theta, X, y))\n",
        "    return theta, J_history"
      ],
      "metadata": {
        "id": "mr7RAjVC1-nL"
      },
      "execution_count": null,
      "outputs": []
    },
    {
      "cell_type": "code",
      "source": [
        "#AHORA CARGAMO LOS DATOS DE PRUEBA\n",
        "data = pd.read_csv('test2.csv')\n",
        "print(data)"
      ],
      "metadata": {
        "colab": {
          "base_uri": "https://localhost:8080/"
        },
        "id": "IcQs6K9t2BrE",
        "outputId": "d7be4233-c64b-44d2-e524-80b2d38e1607"
      },
      "execution_count": null,
      "outputs": [
        {
          "output_type": "stream",
          "name": "stdout",
          "text": [
            "       HeartDisease    BMI  Smoking  AlcoholDrinking  Stroke  PhysicalHealth  \\\n",
            "0               0.0  27.63      1.0              0.0     0.0             0.0   \n",
            "1               0.0  21.95      0.0              0.0     0.0             0.0   \n",
            "2               0.0  31.32      1.0              0.0     0.0             0.0   \n",
            "3               0.0  40.35      0.0              0.0     0.0            30.0   \n",
            "4               0.0  35.61      1.0              0.0     0.0            30.0   \n",
            "...             ...    ...      ...              ...     ...             ...   \n",
            "63954           0.0  28.06      1.0              0.0     0.0             0.0   \n",
            "63955           0.0  29.68      1.0              0.0     0.0             7.0   \n",
            "63956           0.0  21.11      0.0              0.0     0.0             4.0   \n",
            "63957           0.0  23.99      0.0              0.0     0.0             0.0   \n",
            "63958           0.0  31.87      1.0              0.0     0.0            30.0   \n",
            "\n",
            "       MentalHealth  DiffWalking  Sex  Diabetic  PhysicalActivity  SleepTime  \\\n",
            "0              25.0          0.0  0.0       0.0               1.0        7.0   \n",
            "1              20.0          0.0  0.0       0.0               1.0        6.0   \n",
            "2               0.0          0.0  0.0       0.0               1.0        6.0   \n",
            "3               0.0          0.0  0.0       0.0               0.0        8.0   \n",
            "4              30.0          1.0  0.0       0.0               0.0        4.0   \n",
            "...             ...          ...  ...       ...               ...        ...   \n",
            "63954          15.0          0.0  1.0       0.0               1.0        7.0   \n",
            "63955          25.0          0.0  1.0       0.0               0.0        3.0   \n",
            "63956           0.0          0.0  0.0       0.0               1.0        7.0   \n",
            "63957           0.0          0.0  1.0       0.0               1.0        8.0   \n",
            "63958           0.0          1.0  1.0       1.0               0.0        7.0   \n",
            "\n",
            "       Asthma  KidneyDisease  SkinCancer  \n",
            "0         0.0            0.0         0.0  \n",
            "1         0.0            0.0         1.0  \n",
            "2         1.0            0.0         0.0  \n",
            "3         0.0            0.0         0.0  \n",
            "4         1.0            0.0         1.0  \n",
            "...       ...            ...         ...  \n",
            "63954     0.0            0.0         1.0  \n",
            "63955     1.0            0.0         0.0  \n",
            "63956     0.0            0.0         1.0  \n",
            "63957     0.0            0.0         0.0  \n",
            "63958     0.0            0.0         0.0  \n",
            "\n",
            "[63959 rows x 15 columns]\n"
          ]
        }
      ]
    },
    {
      "cell_type": "code",
      "source": [
        "fila_deseada=2\n",
        "\n",
        "if fila_deseada < len(data):\n",
        "  fila_completa = data.iloc[fila_deseada].to_numpy()\n",
        "  print(fila_completa)\n",
        "else:\n",
        "  print(\"fila no existe\")"
      ],
      "metadata": {
        "colab": {
          "base_uri": "https://localhost:8080/"
        },
        "id": "s1NM99x32HwT",
        "outputId": "579bff3b-8503-4b3f-d425-0901c70eafb2"
      },
      "execution_count": null,
      "outputs": [
        {
          "output_type": "stream",
          "name": "stdout",
          "text": [
            "[ 0.   31.32  1.    0.    0.    0.    0.    0.    0.    0.    1.    6.\n",
            "  1.    0.    0.  ]\n"
          ]
        }
      ]
    },
    {
      "cell_type": "code",
      "source": [
        "# Elegir algun valor para alpha (probar varias alternativas)\n",
        "alpha = 0.05\n",
        "num_iters = 15000\n",
        "\n",
        "# inicializa theta y ejecuta el descenso por el gradiente\n",
        "theta = np.zeros(15)\n",
        "theta, J_history = descensoGradiente(theta, X, y, alpha, num_iters)\n",
        "\n",
        "# Grafica la convergencia\n",
        "pyplot.plot(np.arange(len(J_history)), J_history, lw=2)\n",
        "pyplot.xlabel('Numero de iteraciones')\n",
        "pyplot.ylabel('Costo J')\n",
        "\n",
        "# Muestra los resultados del descenso por el gradiente\n",
        "print('theta calculado por el descenso por el gradiente: {:s}'.format(str(theta)))\n",
        "\n",
        "# verificar si se presenta un incendio o no\n",
        "X_array = [1, 1.65471696e+09,4.33300000e+01, 1.85300000e+01, 0.00000000e+00,\n",
        " 4.00000000e+02, 1.36210000e+04, 2.13220000e+04, 9.36812000e+02,\n",
        " 1.16000000e+00, 1.21000000e+00, 7.98000000e+00, 1.24500000e+00,\n",
        " 2.80000000e-02, 4.76800000e+03]\n",
        "aprueba = sigmoid(np.dot(X_array, theta))   # Se debe cambiar esto\n",
        "\n",
        "print('El resultado entre falso o verdadero para un incendio es (usando el descenso por el gradiente):{:.0f}'.format(aprueba))"
      ],
      "metadata": {
        "colab": {
          "base_uri": "https://localhost:8080/",
          "height": 485
        },
        "id": "53nYT6al2MLj",
        "outputId": "f14f239b-3967-4879-c5f3-3710de788f25"
      },
      "execution_count": null,
      "outputs": [
        {
          "output_type": "stream",
          "name": "stdout",
          "text": [
            "theta calculado por el descenso por el gradiente: [nan nan nan nan nan nan nan nan nan nan nan nan nan nan nan]\n",
            "El resultado entre falso o verdadero para un incendio es (usando el descenso por el gradiente):nan\n"
          ]
        },
        {
          "output_type": "display_data",
          "data": {
            "text/plain": [
              "<Figure size 640x480 with 1 Axes>"
            ],
            "image/png": "[encoded data removed]"
          },
          "metadata": {}
        }
      ]
    },
    {
      "cell_type": "code",
      "source": [
        "def costFunction(theta, X, y):\n",
        "    # Inicializar algunos valores utiles\n",
        "    m = y.size  # numero de ejemplos de entrenamiento\n",
        "    epsilon = 1e-8\n",
        "\n",
        "    J = 0\n",
        "    grad = np.zeros(theta.shape)\n",
        "\n",
        "    h = sigmoid(X.dot(theta.T))\n",
        "\n",
        "    J = (1 / m) * np.sum(-y.dot(np.log(h+epsilon)) - (1 - y).dot(np.log(1 - h+epsilon)))\n",
        "    grad = (1 / m) * (h - y).dot(X)\n",
        "\n",
        "    return J, grad"
      ],
      "metadata": {
        "id": "fdG5poqR4Rnk"
      },
      "execution_count": null,
      "outputs": []
    },
    {
      "cell_type": "code",
      "source": [
        "# Inicializacion de parametros de ajuste\n",
        "initial_theta = np.zeros(n+1)\n",
        "print(initial_theta)\n",
        "cost, grad = costFunction(initial_theta, X, y)\n",
        "\n",
        "print('theta inicial (zeros): {:.3f}'.format(cost))\n",
        "print('valor esperado (aproximado): 0.693\\n')\n",
        "print(grad)\n",
        "print('Gradiente en theta inicial (zeros):')\n",
        "print('\\t[{:.4f}, {:.4f}, {:.4f}, {:.4f}, {:.4f}, {:.4f}, {:.4f}, {:.4f}, {:.4f}, {:.4f}, {:.4f}, {:.4f}, {:.4f}, {:.4f}, {:.4f}]'.format(*grad))"
      ],
      "metadata": {
        "colab": {
          "base_uri": "https://localhost:8080/"
        },
        "id": "L91N5zOd4Wxr",
        "outputId": "bb4be75d-49be-4211-e00e-5d3fe6ade838"
      },
      "execution_count": null,
      "outputs": [
        {
          "output_type": "stream",
          "name": "stdout",
          "text": [
            "[0. 0. 0. 0. 0. 0. 0. 0. 0. 0. 0. 0. 0. 0. 0.]\n",
            "theta inicial (zeros): nan\n",
            "valor esperado (aproximado): 0.693\n",
            "\n",
            "[nan nan nan nan nan nan nan nan nan nan nan nan nan nan nan]\n",
            "Gradiente en theta inicial (zeros):\n",
            "\t[nan, nan, nan, nan, nan, nan, nan, nan, nan, nan, nan, nan, nan, nan, nan]\n"
          ]
        }
      ]
    },
    {
      "cell_type": "code",
      "source": [
        "# Calcula y muestra el costo y el gradiente con valores de theta diferentes a cero\n",
        "\n",
        "test_theta = np.array([-0.21462558,  0.17585177,  0.07401689, -0.18056766,  0.09697655,  0.04380724,\n",
        " -0.04832358,  0.15383585, -0.11280644,  0.04992442,  0.03834761,  0.05785728,\n",
        "  0.03740429,  0.02606025, -0.3042659])\n",
        "#test_theta = np.array([-11.74749157, 0.09927308, 0.09316497])\n",
        "print(test_theta)\n",
        "cost, grad = costFunction(test_theta, X, y)\n",
        "\n",
        "print('Costo en theta prueba: {:.3f}'.format(cost))\n",
        "\n",
        "print('Gradiente en theta prueba:')\n",
        "print('\\t[{:.3f}, {:.3f}, {:.3f}, {:.3f}, {:.3f}, {:.3f}, {:.3f}, {:.3f}, {:.3f}, {:.3f}, {:.3f}, {:.3f}, {:.3f}, {:.3f}, {:.3f}]'.format(*grad))"
      ],
      "metadata": {
        "colab": {
          "base_uri": "https://localhost:8080/"
        },
        "id": "RiVgcfn-4b6b",
        "outputId": "e27af9b3-0161-44a3-a848-beb2b1346ddd"
      },
      "execution_count": null,
      "outputs": [
        {
          "output_type": "stream",
          "name": "stdout",
          "text": [
            "[-0.21462558  0.17585177  0.07401689 -0.18056766  0.09697655  0.04380724\n",
            " -0.04832358  0.15383585 -0.11280644  0.04992442  0.03834761  0.05785728\n",
            "  0.03740429  0.02606025 -0.3042659 ]\n",
            "Costo en theta prueba: nan\n",
            "Gradiente en theta prueba:\n",
            "\t[nan, nan, nan, nan, nan, nan, nan, nan, nan, nan, nan, nan, nan, nan, nan]\n"
          ]
        }
      ]
    },
    {
      "cell_type": "code",
      "source": [
        "def predict(theta, X):\n",
        "    \"\"\"\n",
        "    Predecir si la etiqueta es 0 o 1 mediante regresión logística aprendida.\n",
        "    Calcula las predicciones para X usando un umbral en 0.5 (es decir, si sigmoide (theta.T * x)> = 0.5, predice 1)\n",
        "\n",
        "    Parametros\n",
        "    ----------\n",
        "    theta : array_like\n",
        "        Parametros para regresion logistica. Un vecto de la forma (n+1, ).\n",
        "\n",
        "    X : array_like\n",
        "        Datos utilizados para el calculo de las predicciones.\n",
        "        La fila es el numero de los puntos para calcular las predicciones,\n",
        "        y las columnas con el numero de caracteristicas.\n",
        "\n",
        "    Devuelve\n",
        "    -------\n",
        "    p : array_like\n",
        "        Predicciones y 0 o 1 para cada fila en X.\n",
        "    \"\"\"\n",
        "    m = X.shape[0] # Numero de ejemplo de entrenamiento\n",
        "\n",
        "    p = np.zeros(m)\n",
        "\n",
        "    p = np.round(sigmoid(X.dot(theta.T)))\n",
        "    return p"
      ],
      "metadata": {
        "id": "ApRgfUH-5A4T"
      },
      "execution_count": null,
      "outputs": []
    },
    {
      "cell_type": "code",
      "source": [
        "#  Predice la probabilidad de que tenga una enfermedad del corazon\n",
        "prob = sigmoid(np.dot([1, 1.65471696e+09,4.33300000e+01, 1.85300000e+01, 0.00000000e+00,\n",
        " 4.00000000e+02, 1.36210000e+04, 2.13220000e+04, 9.36812000e+02,\n",
        " 1.16000000e+00, 1.21000000e+00, 7.98000000e+00, 1.24500000e+00,\n",
        " 2.80000000e-02, 4.76800000e+03], theta))\n",
        "print('Para la deteccion de humo con los datos introducidos la probabilidad es de: {:.3f}'.format(prob))\n",
        "\n",
        "# Compute accuracy on our training set\n",
        "p = predict(theta, X)\n",
        "print('Precisión de entrenamiento: {:.2f} %'.format(np.mean(p == y) * 100))\n",
        "print('Precisión esperada (aproximadamente): 89.00 %')"
      ],
      "metadata": {
        "colab": {
          "base_uri": "https://localhost:8080/"
        },
        "id": "V5HZqTXC4zM6",
        "outputId": "3568b3be-4003-40b6-ba7a-467d79090f8a"
      },
      "execution_count": null,
      "outputs": [
        {
          "output_type": "stream",
          "name": "stdout",
          "text": [
            "Para la deteccion de humo con los datos introducidos la probabilidad es de: nan\n",
            "Precisión de entrenamiento: 0.00 %\n",
            "Precisión esperada (aproximadamente): 89.00 %\n"
          ]
        }
      ]
    }
  ],
  "metadata": {
    "kernelspec": {
      "display_name": "Python 3",
      "language": "python",
      "name": "python3"
    },
    "language_info": {
      "codemirror_mode": {
        "name": "ipython",
        "version": 3
      },
      "file_extension": ".py",
      "mimetype": "text/x-python",
      "name": "python",
      "nbconvert_exporter": "python",
      "pygments_lexer": "ipython3",
      "version": "3.8.3"
    },
    "colab": {
      "provenance": []
    }
  },
  "nbformat": 4,
  "nbformat_minor": 0
}