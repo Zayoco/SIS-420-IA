{
  "nbformat": 4,
  "nbformat_minor": 0,
  "metadata": {
    "colab": {
      "provenance": [],
      "authorship_tag": "ABX9TyP/gAsipuMA6yYnVPF/usdj",
      "include_colab_link": true
    },
    "kernelspec": {
      "name": "python3",
      "display_name": "Python 3"
    },
    "language_info": {
      "name": "python"
    }
  },
  "cells": [
    {
      "cell_type": "markdown",
      "metadata": {
        "id": "view-in-github",
        "colab_type": "text"
      },
      "source": [
        "<a href=\"https://colab.research.google.com/github/Zayoco/SIS-420-IA/blob/main/(1ER%20PARCIAL)_AVOCADO.ipynb\" target=\"_parent\"><img src=\"https://colab.research.google.com/assets/colab-badge.svg\" alt=\"Open In Colab\"/></a>"
      ]
    },
    {
      "cell_type": "code",
      "execution_count": 1,
      "metadata": {
        "colab": {
          "base_uri": "https://localhost:8080/"
        },
        "id": "BDjFuQR0-Sxs",
        "outputId": "4807a1ec-9cbb-4cf9-c7a4-b15f9d449f45"
      },
      "outputs": [
        {
          "output_type": "stream",
          "name": "stdout",
          "text": [
            "Mounted at /content/drive\n"
          ]
        }
      ],
      "source": [
        "#conectamos con Google drive para subir el dataset\n",
        "from google.colab import drive\n",
        "drive.mount('/content/drive')"
      ]
    },
    {
      "cell_type": "code",
      "source": [
        "#Implementar librerias\n",
        "import os\n",
        "#computacion vectorial y cientifica\n",
        "import numpy as np\n",
        "#libreria para graficar\n",
        "from matplotlib import pyplot\n",
        "from mpl_toolkits.mplot3d import Axes3D #Para graficar elementos 3D\n",
        "\n",
        "#llama a mtplotlib a embeber graficas dentro de los cuadernillos\n",
        "%matplotlib inline"
      ],
      "metadata": {
        "id": "kAco8qyBEIDJ"
      },
      "execution_count": 2,
      "outputs": []
    },
    {
      "cell_type": "code",
      "source": [
        "#mostramos los datos con panda ¿por que no? si se ve bonito\n",
        "import pandas as pd\n",
        "from datetime import datetime"
      ],
      "metadata": {
        "id": "lE84AmrT_7JF"
      },
      "execution_count": 3,
      "outputs": []
    },
    {
      "cell_type": "code",
      "source": [
        "#cargamos dataset\n",
        "data = pd.read_csv('/content/drive/MyDrive/DATASETS/avocado.csv')"
      ],
      "metadata": {
        "id": "1Y9H8lm7_9AN"
      },
      "execution_count": 4,
      "outputs": []
    },
    {
      "cell_type": "code",
      "source": [
        "print(data)"
      ],
      "metadata": {
        "colab": {
          "base_uri": "https://localhost:8080/"
        },
        "id": "HrcBlbPWAtxu",
        "outputId": "ec0f20f3-3887-429e-e61c-9c88cea10465"
      },
      "execution_count": 5,
      "outputs": [
        {
          "output_type": "stream",
          "name": "stdout",
          "text": [
            "       Unnamed: 0        Date  AveragePrice  Total Volume     4046       4225  \\\n",
            "0               0  2015-12-27          1.33      64236.62  1036.74   54454.85   \n",
            "1               1  2015-12-20          1.35      54876.98   674.28   44638.81   \n",
            "2               2  2015-12-13          0.93     118220.22   794.70  109149.67   \n",
            "3               3  2015-12-06          1.08      78992.15  1132.00   71976.41   \n",
            "4               4  2015-11-29          1.28      51039.60   941.48   43838.39   \n",
            "...           ...         ...           ...           ...      ...        ...   \n",
            "18244           7  2018-02-04          1.63      17074.83  2046.96    1529.20   \n",
            "18245           8  2018-01-28          1.71      13888.04  1191.70    3431.50   \n",
            "18246           9  2018-01-21          1.87      13766.76  1191.92    2452.79   \n",
            "18247          10  2018-01-14          1.93      16205.22  1527.63    2981.04   \n",
            "18248          11  2018-01-07          1.62      17489.58  2894.77    2356.13   \n",
            "\n",
            "         4770  Total Bags  Small Bags  Large Bags  XLarge Bags          type  \\\n",
            "0       48.16     8696.87     8603.62       93.25          0.0  conventional   \n",
            "1       58.33     9505.56     9408.07       97.49          0.0  conventional   \n",
            "2      130.50     8145.35     8042.21      103.14          0.0  conventional   \n",
            "3       72.58     5811.16     5677.40      133.76          0.0  conventional   \n",
            "4       75.78     6183.95     5986.26      197.69          0.0  conventional   \n",
            "...       ...         ...         ...         ...          ...           ...   \n",
            "18244    0.00    13498.67    13066.82      431.85          0.0       organic   \n",
            "18245    0.00     9264.84     8940.04      324.80          0.0       organic   \n",
            "18246  727.94     9394.11     9351.80       42.31          0.0       organic   \n",
            "18247  727.01    10969.54    10919.54       50.00          0.0       organic   \n",
            "18248  224.53    12014.15    11988.14       26.01          0.0       organic   \n",
            "\n",
            "       year            region  \n",
            "0      2015            Albany  \n",
            "1      2015            Albany  \n",
            "2      2015            Albany  \n",
            "3      2015            Albany  \n",
            "4      2015            Albany  \n",
            "...     ...               ...  \n",
            "18244  2018  WestTexNewMexico  \n",
            "18245  2018  WestTexNewMexico  \n",
            "18246  2018  WestTexNewMexico  \n",
            "18247  2018  WestTexNewMexico  \n",
            "18248  2018  WestTexNewMexico  \n",
            "\n",
            "[18249 rows x 14 columns]\n"
          ]
        }
      ]
    },
    {
      "cell_type": "code",
      "source": [
        "data.info()"
      ],
      "metadata": {
        "colab": {
          "base_uri": "https://localhost:8080/"
        },
        "id": "e8zgXavYA47F",
        "outputId": "5b243aa9-06f3-410b-cc63-611e477b691b"
      },
      "execution_count": 6,
      "outputs": [
        {
          "output_type": "stream",
          "name": "stdout",
          "text": [
            "<class 'pandas.core.frame.DataFrame'>\n",
            "RangeIndex: 18249 entries, 0 to 18248\n",
            "Data columns (total 14 columns):\n",
            " #   Column        Non-Null Count  Dtype  \n",
            "---  ------        --------------  -----  \n",
            " 0   Unnamed: 0    18249 non-null  int64  \n",
            " 1   Date          18249 non-null  object \n",
            " 2   AveragePrice  18249 non-null  float64\n",
            " 3   Total Volume  18249 non-null  float64\n",
            " 4   4046          18249 non-null  float64\n",
            " 5   4225          18249 non-null  float64\n",
            " 6   4770          18249 non-null  float64\n",
            " 7   Total Bags    18249 non-null  float64\n",
            " 8   Small Bags    18249 non-null  float64\n",
            " 9   Large Bags    18249 non-null  float64\n",
            " 10  XLarge Bags   18249 non-null  float64\n",
            " 11  type          18249 non-null  object \n",
            " 12  year          18249 non-null  int64  \n",
            " 13  region        18249 non-null  object \n",
            "dtypes: float64(9), int64(2), object(3)\n",
            "memory usage: 1.9+ MB\n"
          ]
        }
      ]
    },
    {
      "cell_type": "code",
      "source": [
        "#Eliminamos alguna columnas para una mejor convergencia\n",
        "data.drop('Unnamed: 0', axis=1, inplace = True)\n",
        "\n",
        "data.drop('Date', axis=1, inplace = True)\n",
        "\n",
        "data.drop('type', axis=1, inplace = True)\n",
        "\n",
        "data.drop('year', axis=1, inplace = True)\n",
        "\n",
        "data.drop('region', axis=1, inplace = True)"
      ],
      "metadata": {
        "id": "26NRz4fxBDtb"
      },
      "execution_count": 7,
      "outputs": []
    },
    {
      "cell_type": "code",
      "source": [
        "#Lectura de datos\n",
        "X = data.iloc[:, 1:9]\n",
        "y = data.iloc[:, 0]\n",
        "m = y.size"
      ],
      "metadata": {
        "id": "PwATVk_QEn1H"
      },
      "execution_count": 8,
      "outputs": []
    },
    {
      "cell_type": "code",
      "source": [
        "print(X)\n",
        "print('-'*25)\n",
        "print(y)"
      ],
      "metadata": {
        "colab": {
          "base_uri": "https://localhost:8080/"
        },
        "id": "lpb7IbwMFQQr",
        "outputId": "17b18f22-99e9-4d04-cd8b-0a35c357b3c7"
      },
      "execution_count": 10,
      "outputs": [
        {
          "output_type": "stream",
          "name": "stdout",
          "text": [
            "       Total Volume     4046       4225    4770  Total Bags  Small Bags  \\\n",
            "0          64236.62  1036.74   54454.85   48.16     8696.87     8603.62   \n",
            "1          54876.98   674.28   44638.81   58.33     9505.56     9408.07   \n",
            "2         118220.22   794.70  109149.67  130.50     8145.35     8042.21   \n",
            "3          78992.15  1132.00   71976.41   72.58     5811.16     5677.40   \n",
            "4          51039.60   941.48   43838.39   75.78     6183.95     5986.26   \n",
            "...             ...      ...        ...     ...         ...         ...   \n",
            "18244      17074.83  2046.96    1529.20    0.00    13498.67    13066.82   \n",
            "18245      13888.04  1191.70    3431.50    0.00     9264.84     8940.04   \n",
            "18246      13766.76  1191.92    2452.79  727.94     9394.11     9351.80   \n",
            "18247      16205.22  1527.63    2981.04  727.01    10969.54    10919.54   \n",
            "18248      17489.58  2894.77    2356.13  224.53    12014.15    11988.14   \n",
            "\n",
            "       Large Bags  XLarge Bags  \n",
            "0           93.25          0.0  \n",
            "1           97.49          0.0  \n",
            "2          103.14          0.0  \n",
            "3          133.76          0.0  \n",
            "4          197.69          0.0  \n",
            "...           ...          ...  \n",
            "18244      431.85          0.0  \n",
            "18245      324.80          0.0  \n",
            "18246       42.31          0.0  \n",
            "18247       50.00          0.0  \n",
            "18248       26.01          0.0  \n",
            "\n",
            "[18249 rows x 8 columns]\n",
            "-------------------------\n",
            "0        1.33\n",
            "1        1.35\n",
            "2        0.93\n",
            "3        1.08\n",
            "4        1.28\n",
            "         ... \n",
            "18244    1.63\n",
            "18245    1.71\n",
            "18246    1.87\n",
            "18247    1.93\n",
            "18248    1.62\n",
            "Name: AveragePrice, Length: 18249, dtype: float64\n"
          ]
        }
      ]
    },
    {
      "cell_type": "code",
      "source": [
        "#Normalizamos\n",
        "def featureNormalize(X):\n",
        "  X_norm = X.copy()\n",
        "  mu = np.zeros(X.shape[1])\n",
        "  sigma = np.zeros(X.shape[1])\n",
        "\n",
        "  mu = np.mean(X, axis = 0)\n",
        "  sigma = np.std(X, axis = 0)\n",
        "  X_norm = (X - mu) / sigma\n",
        "\n",
        "  return X_norm, mu, sigma"
      ],
      "metadata": {
        "id": "A6_Vc9ryFVtT"
      },
      "execution_count": 11,
      "outputs": []
    },
    {
      "cell_type": "code",
      "source": [
        "#Llamamos a featureNormalize con los datos ya cargados\n",
        "X_norm, mu, sigma = featureNormalize(X)\n",
        "\n",
        "print(X)\n",
        "print('Media Calculada :', mu)\n",
        "print('Desviación estandar calculada :', sigma)\n",
        "print(X_norm)"
      ],
      "metadata": {
        "colab": {
          "base_uri": "https://localhost:8080/"
        },
        "id": "eDrER8KHFVzK",
        "outputId": "44bae107-8b25-4941-c904-5ed8f8677174"
      },
      "execution_count": 12,
      "outputs": [
        {
          "output_type": "stream",
          "name": "stdout",
          "text": [
            "       Total Volume     4046       4225    4770  Total Bags  Small Bags  \\\n",
            "0          64236.62  1036.74   54454.85   48.16     8696.87     8603.62   \n",
            "1          54876.98   674.28   44638.81   58.33     9505.56     9408.07   \n",
            "2         118220.22   794.70  109149.67  130.50     8145.35     8042.21   \n",
            "3          78992.15  1132.00   71976.41   72.58     5811.16     5677.40   \n",
            "4          51039.60   941.48   43838.39   75.78     6183.95     5986.26   \n",
            "...             ...      ...        ...     ...         ...         ...   \n",
            "18244      17074.83  2046.96    1529.20    0.00    13498.67    13066.82   \n",
            "18245      13888.04  1191.70    3431.50    0.00     9264.84     8940.04   \n",
            "18246      13766.76  1191.92    2452.79  727.94     9394.11     9351.80   \n",
            "18247      16205.22  1527.63    2981.04  727.01    10969.54    10919.54   \n",
            "18248      17489.58  2894.77    2356.13  224.53    12014.15    11988.14   \n",
            "\n",
            "       Large Bags  XLarge Bags  \n",
            "0           93.25          0.0  \n",
            "1           97.49          0.0  \n",
            "2          103.14          0.0  \n",
            "3          133.76          0.0  \n",
            "4          197.69          0.0  \n",
            "...           ...          ...  \n",
            "18244      431.85          0.0  \n",
            "18245      324.80          0.0  \n",
            "18246       42.31          0.0  \n",
            "18247       50.00          0.0  \n",
            "18248       26.01          0.0  \n",
            "\n",
            "[18249 rows x 8 columns]\n",
            "Media Calculada : Total Volume    850644.013009\n",
            "4046            293008.424531\n",
            "4225            295154.568356\n",
            "4770             22839.735993\n",
            "Total Bags      239639.202060\n",
            "Small Bags      182194.686696\n",
            "Large Bags       54338.088145\n",
            "XLarge Bags       3106.426507\n",
            "dtype: float64\n",
            "Desviación estandar calculada : Total Volume    3.453451e+06\n",
            "4046            1.264954e+06\n",
            "4225            1.204087e+06\n",
            "4770            1.074611e+05\n",
            "Total Bags      9.862154e+05\n",
            "Small Bags      7.461581e+05\n",
            "Large Bags      2.439593e+05\n",
            "XLarge Bags     1.769241e+04\n",
            "dtype: float64\n",
            "       Total Volume      4046      4225      4770  Total Bags  Small Bags  \\\n",
            "0         -0.227716 -0.230816 -0.199902 -0.212091   -0.234170   -0.232647   \n",
            "1         -0.230427 -0.231103 -0.208054 -0.211997   -0.233350   -0.231568   \n",
            "2         -0.212085 -0.231007 -0.154478 -0.211325   -0.234730   -0.233399   \n",
            "3         -0.223444 -0.230741 -0.185350 -0.211864   -0.237096   -0.236568   \n",
            "4         -0.231538 -0.230891 -0.208719 -0.211834   -0.236718   -0.236154   \n",
            "...             ...       ...       ...       ...         ...         ...   \n",
            "18244     -0.241373 -0.230017 -0.243857 -0.212540   -0.229301   -0.226665   \n",
            "18245     -0.242296 -0.230693 -0.242277 -0.212540   -0.233594   -0.232196   \n",
            "18246     -0.242331 -0.230693 -0.243090 -0.205766   -0.233463   -0.231644   \n",
            "18247     -0.241625 -0.230428 -0.242651 -0.205774   -0.231866   -0.229543   \n",
            "18248     -0.241253 -0.229347 -0.243170 -0.210450   -0.230807   -0.228111   \n",
            "\n",
            "       Large Bags  XLarge Bags  \n",
            "0       -0.222352     -0.17558  \n",
            "1       -0.222335     -0.17558  \n",
            "2       -0.222311     -0.17558  \n",
            "3       -0.222186     -0.17558  \n",
            "4       -0.221924     -0.17558  \n",
            "...           ...          ...  \n",
            "18244   -0.220964     -0.17558  \n",
            "18245   -0.221403     -0.17558  \n",
            "18246   -0.222561     -0.17558  \n",
            "18247   -0.222529     -0.17558  \n",
            "18248   -0.222628     -0.17558  \n",
            "\n",
            "[18249 rows x 8 columns]\n"
          ]
        }
      ]
    },
    {
      "cell_type": "code",
      "source": [
        "#Añade intersección a x\n",
        "#(Columnas de unos para X0)\n",
        "X = np.concatenate([np.ones((m, 1)), X_norm], axis = 1)"
      ],
      "metadata": {
        "id": "h9q3EnYRGDkj"
      },
      "execution_count": 15,
      "outputs": []
    },
    {
      "cell_type": "code",
      "source": [
        "#aplicamos la funcion de costo\n",
        "def chance_admit(X, y, theta):\n",
        "  #Inicializamos valores\n",
        "  m = y.shape[0] #numero de ejemplos de entrenamiento\n",
        "\n",
        "  J = 0\n",
        "  h = np.dot(X, theta)\n",
        "  J = (1/(2 * m))*np.sum(np.square(np.dot(X, theta)-y))\n",
        "  return J"
      ],
      "metadata": {
        "id": "s7ZLcsQYGJur"
      },
      "execution_count": 16,
      "outputs": []
    },
    {
      "cell_type": "code",
      "source": [
        "#calculamos el desenso por el gradiente\n",
        "def gradienteDescentMulti(X, y, theta,alpha, num_iters):\n",
        "  #Inicializamos valores\n",
        "  m = y.shape[0] #numero de ejemplos de entrenamiento\n",
        "   #realizamos una copia de tehta el cual sera actualizado por el descenso de la gradiente\n",
        "  theta = theta.copy()\n",
        "  J_history = []\n",
        "  for i in range(num_iters):\n",
        "    theta = theta - (alpha / m) * (np.dot(X, theta) - y).dot(X)\n",
        "    J_history.append(chance_admit(X, y, theta))\n",
        "\n",
        "  return theta, J_history"
      ],
      "metadata": {
        "id": "DBg6KXcvGRTT"
      },
      "execution_count": 17,
      "outputs": []
    },
    {
      "cell_type": "code",
      "source": [
        "print(data)"
      ],
      "metadata": {
        "colab": {
          "base_uri": "https://localhost:8080/"
        },
        "id": "7aUC9ddYK3z6",
        "outputId": "72f97685-4eca-4b22-d9de-de3d05a6addb"
      },
      "execution_count": 26,
      "outputs": [
        {
          "output_type": "stream",
          "name": "stdout",
          "text": [
            "       AveragePrice  Total Volume     4046       4225    4770  Total Bags  \\\n",
            "0              1.33      64236.62  1036.74   54454.85   48.16     8696.87   \n",
            "1              1.35      54876.98   674.28   44638.81   58.33     9505.56   \n",
            "2              0.93     118220.22   794.70  109149.67  130.50     8145.35   \n",
            "3              1.08      78992.15  1132.00   71976.41   72.58     5811.16   \n",
            "4              1.28      51039.60   941.48   43838.39   75.78     6183.95   \n",
            "...             ...           ...      ...        ...     ...         ...   \n",
            "18244          1.63      17074.83  2046.96    1529.20    0.00    13498.67   \n",
            "18245          1.71      13888.04  1191.70    3431.50    0.00     9264.84   \n",
            "18246          1.87      13766.76  1191.92    2452.79  727.94     9394.11   \n",
            "18247          1.93      16205.22  1527.63    2981.04  727.01    10969.54   \n",
            "18248          1.62      17489.58  2894.77    2356.13  224.53    12014.15   \n",
            "\n",
            "       Small Bags  Large Bags  XLarge Bags  \n",
            "0         8603.62       93.25          0.0  \n",
            "1         9408.07       97.49          0.0  \n",
            "2         8042.21      103.14          0.0  \n",
            "3         5677.40      133.76          0.0  \n",
            "4         5986.26      197.69          0.0  \n",
            "...           ...         ...          ...  \n",
            "18244    13066.82      431.85          0.0  \n",
            "18245     8940.04      324.80          0.0  \n",
            "18246     9351.80       42.31          0.0  \n",
            "18247    10919.54       50.00          0.0  \n",
            "18248    11988.14       26.01          0.0  \n",
            "\n",
            "[18249 rows x 9 columns]\n"
          ]
        }
      ]
    },
    {
      "cell_type": "code",
      "source": [
        "#Elegimos algun valor para alpha\n",
        "alpha = 0.003\n",
        "num_iters = 5000\n",
        "\n",
        "#Iniciamos theta e inicializamos el descenso de las gradientes\n",
        "theta = np.zeros(9)\n",
        "theta, J_history = gradienteDescentMulti(X, y ,theta, alpha, num_iters)\n",
        "\n",
        "#grafica de la chance de ser admitido\n",
        "pyplot.plot(np.arange(len(J_history)), J_history, lw = 2)\n",
        "pyplot.xlabel('numero de interacciones')\n",
        "pyplot.ylabel('J')\n",
        "\n",
        "#Muestra los resultados del descenso por el gradiente\n",
        "print('theta calculado por el descenso de la gradiente: {:s}'.format(str(theta)))\n",
        "\n",
        "#estimamos el precio\n",
        "X_array = [1, 78992.15, 1132.00, 71976.41, 72.58, 5811.16, 5677.40, 133.76, 0.0]\n",
        "X_array[1: 9] = (X_array[1:9]- mu)/ sigma\n",
        "chance = np.dot(X_array, theta)\n",
        "\n",
        "print('El precio estimado de una Palta con estas caracteristicas es de: {:.4f}'.format(chance))"
      ],
      "metadata": {
        "colab": {
          "base_uri": "https://localhost:8080/",
          "height": 503
        },
        "id": "RkEly12mGXZL",
        "outputId": "ae15283c-cb44-4a57-e7cd-37ea5bdd1d01"
      },
      "execution_count": 29,
      "outputs": [
        {
          "output_type": "stream",
          "name": "stdout",
          "text": [
            "theta calculado por el descenso de la gradiente: [ 1.40597799 -0.01644762 -0.09190862  0.04912498 -0.03757374  0.00440014\n",
            "  0.01320248 -0.02433911  0.02408404]\n",
            "El precio estimado de una Palta con estas caracteristicas es de: 1.4267\n"
          ]
        },
        {
          "output_type": "display_data",
          "data": {
            "text/plain": [
              "<Figure size 640x480 with 1 Axes>"
            ],
            "image/png": "[encoded data removed]"
          },
          "metadata": {}
        }
      ]
    }
  ]
}